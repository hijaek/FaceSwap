{
 "cells": [
  {
   "cell_type": "code",
   "execution_count": 3,
   "metadata": {},
   "outputs": [
    {
     "name": "stdout",
     "output_type": "stream",
     "text": [
      "Collecting Cmake\n",
      "  Downloading cmake-3.26.3-py2.py3-none-macosx_10_10_universal2.macosx_10_10_x86_64.macosx_11_0_arm64.macosx_11_0_universal2.whl (45.6 MB)\n",
      "\u001b[2K     \u001b[90m━━━━━━━━━━━━━━━━━━━━━━━━━━━━━━━━━━━━━━━━\u001b[0m \u001b[32m45.6/45.6 MB\u001b[0m \u001b[31m19.8 MB/s\u001b[0m eta \u001b[36m0:00:00\u001b[0m00:01\u001b[0m00:01\u001b[0m\n",
      "\u001b[?25hInstalling collected packages: Cmake\n",
      "Successfully installed Cmake-3.26.3\n",
      "Collecting dlib>=19.9.0 (from -r requirements.txt (line 1))\n",
      "  Using cached dlib-19.24.1.tar.gz (3.2 MB)\n",
      "  Preparing metadata (setup.py) ... \u001b[?25ldone\n",
      "\u001b[?25hRequirement already satisfied: numpy>=1.13.1 in /Users/hijaekim/opt/anaconda3/lib/python3.9/site-packages (from -r requirements.txt (line 2)) (1.21.5)\n",
      "Requirement already satisfied: scipy>=0.18.0 in /Users/hijaekim/opt/anaconda3/lib/python3.9/site-packages (from -r requirements.txt (line 3)) (1.9.1)\n",
      "Building wheels for collected packages: dlib\n",
      "  Building wheel for dlib (setup.py) ... \u001b[?25ldone\n",
      "\u001b[?25h  Created wheel for dlib: filename=dlib-19.24.1-cp39-cp39-macosx_12_0_x86_64.whl size=3722384 sha256=81f95e0626838351a6b6012c97e35ced213cc3af7201e1e1377fc9758d5297fa\n",
      "  Stored in directory: /Users/hijaekim/Library/Caches/pip/wheels/b1/fa/fa/a698544859f4356753d13f9217204f35427408e8bf07c3f238\n",
      "Successfully built dlib\n",
      "Installing collected packages: dlib\n",
      "Successfully installed dlib-19.24.1\n"
     ]
    }
   ],
   "source": [
    "pip install Cmake\n",
    "pip install -r requirements.txt\n",
    "pip install opencv-python==4.6.0.66\n"
   ]
  },
  {
   "cell_type": "code",
   "execution_count": null,
   "metadata": {},
   "outputs": [],
   "source": [
    "import os\n",
    "\n",
    "kanyes = [filename for filename in os.listdir('imgs') if filename.startswith(\"kanye\")]\n",
    "for imgs in kanyes:\n",
    "    %run main.py --src imgs/{imgs} --dst 'imgs/confession.jpg' --out results/confession_x_{imgs}_warped.jpg --correct_color --warp_2d\n",
    "\n"
   ]
  },
  {
   "cell_type": "code",
   "execution_count": 19,
   "metadata": {},
   "outputs": [],
   "source": [
    "imgs = kanyes[0]\n",
    "output_kanye = f'results/confession_x_{imgs}_warped.jpg'\n",
    "!python main.py --src imgs/{imgs} --dst imgs/confession.jpg --out results/confessions_x_{output_kanye} --correct_color --warp_2d\n"
   ]
  },
  {
   "cell_type": "code",
   "execution_count": null,
   "metadata": {},
   "outputs": [],
   "source": [
    "python main.py --src imgs/test6.jpg --dst imgs/test7.jpg --out results/output6_7_2d.jpg --correct_color --warp_2d\n"
   ]
  },
  {
   "cell_type": "code",
   "execution_count": 61,
   "metadata": {},
   "outputs": [
    {
     "name": "stdout",
     "output_type": "stream",
     "text": [
      "1060\n",
      "975\n"
     ]
    }
   ],
   "source": [
    "import re\n",
    "import pandas as pd\n",
    "\n",
    "s = pd.read_csv ('betaSignup.txt', header=None)\n",
    "\n",
    "# domain = re.search(\"@[\\w.]+\", s)\n",
    "# print domain.group()\n",
    "\n",
    "d = s.transpose()\n",
    "\n",
    "e = d[0].str.split('@').str[1]\n",
    "# print(len(d.unique()))\n",
    "print(len(d))\n",
    "print(len(d[0].unique()))\n",
    "\n",
    "\n",
    "\n"
   ]
  },
  {
   "cell_type": "code",
   "execution_count": 50,
   "metadata": {},
   "outputs": [
    {
     "data": {
      "text/plain": [
       "array([nan, 'alumni.cmu.edu', 'gmail.com', 'naver.com', 'hanmail.net',\n",
       "       'icloud.com', 'kakao.com', 'kookmin.ac.kr', 'charney.kr',\n",
       "       'exdonuts.com', 'nate.com', 'outlook.kr', 'daum.net', 'naver.con',\n",
       "       'korea.kr', 'proton.me', 'kakaobrain.com', 'u.nus.edu',\n",
       "       'varnest.com', 'ddockddock.net', 'news1.kr', 'yonsei.ac.kr',\n",
       "       'hanyang.ac.kr', 'likelion.org', 'learntoday.kr',\n",
       "       'amoebaculture.com'], dtype=object)"
      ]
     },
     "execution_count": 50,
     "metadata": {},
     "output_type": "execute_result"
    }
   ],
   "source": [
    "e.unique()"
   ]
  },
  {
   "cell_type": "code",
   "execution_count": null,
   "metadata": {},
   "outputs": [],
   "source": []
  }
 ],
 "metadata": {
  "kernelspec": {
   "display_name": "base",
   "language": "python",
   "name": "python3"
  },
  "language_info": {
   "codemirror_mode": {
    "name": "ipython",
    "version": 3
   },
   "file_extension": ".py",
   "mimetype": "text/x-python",
   "name": "python",
   "nbconvert_exporter": "python",
   "pygments_lexer": "ipython3",
   "version": "3.9.13"
  },
  "orig_nbformat": 4
 },
 "nbformat": 4,
 "nbformat_minor": 2
}
